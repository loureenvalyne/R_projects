{
  "metadata": {
    "kernelspec": {
      "name": "ir",
      "display_name": "R",
      "language": "R"
    },
    "language_info": {
      "name": "R",
      "codemirror_mode": "r",
      "pygments_lexer": "r",
      "mimetype": "text/x-r-source",
      "file_extension": ".r",
      "version": "4.4.0"
    },
    "kaggle": {
      "accelerator": "none",
      "dataSources": [
        {
          "sourceId": 9914335,
          "sourceType": "datasetVersion",
          "datasetId": 6092259
        }
      ],
      "dockerImageVersionId": 30749,
      "isInternetEnabled": true,
      "language": "r",
      "sourceType": "notebook",
      "isGpuEnabled": false
    },
    "colab": {
      "name": "nursery_survey_data Analyis with R",
      "provenance": [],
      "include_colab_link": true
    }
  },
  "nbformat_minor": 0,
  "nbformat": 4,
  "cells": [
    {
      "cell_type": "markdown",
      "metadata": {
        "id": "view-in-github",
        "colab_type": "text"
      },
      "source": [
        "<a href=\"https://colab.research.google.com/github/loureenvalyne/R_projects/blob/main/nursery_survey_data_Analyis_with_R.ipynb\" target=\"_parent\"><img src=\"https://colab.research.google.com/assets/colab-badge.svg\" alt=\"Open In Colab\"/></a>"
      ]
    },
    {
      "source": [
        "\n",
        "# IMPORTANT: RUN THIS CELL IN ORDER TO IMPORT YOUR KAGGLE DATA SOURCES\n",
        "# TO THE CORRECT LOCATION (/kaggle/input) IN YOUR NOTEBOOK,\n",
        "# THEN FEEL FREE TO DELETE THIS CELL.\n",
        "# NOTE: THIS NOTEBOOK ENVIRONMENT DIFFERS FROM KAGGLE'S R\n",
        "# ENVIRONMENT SO THERE MAY BE MISSING LIBRARIES USED BY YOUR\n",
        "# NOTEBOOK.\n",
        "\n",
        "DATA_SOURCE_MAPPING = 'nursery-survey-data:https%3A%2F%2Fstorage.googleapis.com%2Fkaggle-data-sets%2F6092259%2F9914335%2Fbundle%2Farchive.zip%3FX-Goog-Algorithm%3DGOOG4-RSA-SHA256%26X-Goog-Credential%3Dgcp-kaggle-com%2540kaggle-161607.iam.gserviceaccount.com%252F20241117%252Fauto%252Fstorage%252Fgoog4_request%26X-Goog-Date%3D20241117T011939Z%26X-Goog-Expires%3D259200%26X-Goog-SignedHeaders%3Dhost%26X-Goog-Signature%3D944fc9b26c5045e63920c686db9f6b58637a5e676f3add91d7a9bcf2d75ff71df99de01242016ba39e1e1228afc1d93978b839f662653b06e21d82178446576536387b8ee99cc90264a9bc5c2c002c2ca6704f5a4a1abf278d607935d3c5036e23c02c1b1d67da5a102dc42c53e1a668d4699dad4e9ced46e5e2622e1a1bf8169240cb435c5d88b79ee03cd02c4c9a27cc519c88b40a60839f865281952c8e63eed6981481f4119385e42b7ad5c340a9118b461950ad15e13a9a004b5dd821cab4460fbb6215c6d6b9584081763b8895edefb1314e43e204af768a91ec28ec87148b315a5e576f4b98473bbaa4aaaab3a29dd9e760274f427c076105ab72bec0'\n",
        "\n",
        "KAGGLE_INPUT_PATH = '/kaggle/input'\n",
        "KAGGLE_WORKING_PATH = '/kaggle/working'\n",
        "\n",
        "system(paste0('sudo umount ', '/kaggle/input'))\n",
        "system(paste0('sudo rmdir ', '/kaggle/input'))\n",
        "system(paste0('sudo mkdir -p -- ', KAGGLE_INPUT_PATH), intern=TRUE)\n",
        "system(paste0('sudo chmod 777 ', KAGGLE_INPUT_PATH), intern=TRUE)\n",
        "system(\n",
        "  paste0('sudo ln -sfn ', KAGGLE_INPUT_PATH,' ',file.path('..', 'input')),\n",
        "  intern=TRUE)\n",
        "\n",
        "system(paste0('sudo mkdir -p -- ', KAGGLE_WORKING_PATH), intern=TRUE)\n",
        "system(paste0('sudo chmod 777 ', KAGGLE_WORKING_PATH), intern=TRUE)\n",
        "system(\n",
        "  paste0('sudo ln -sfn ', KAGGLE_WORKING_PATH, ' ', file.path('..', 'working')),\n",
        "  intern=TRUE)\n",
        "\n",
        "data_source_mappings = strsplit(DATA_SOURCE_MAPPING, ',')[[1]]\n",
        "for (data_source_mapping in data_source_mappings) {\n",
        "    path_and_url = strsplit(data_source_mapping, ':')\n",
        "    directory = path_and_url[[1]][1]\n",
        "    download_url = URLdecode(path_and_url[[1]][2])\n",
        "    filename = sub(\"\\\\?.+\", \"\", download_url)\n",
        "    destination_path = file.path(KAGGLE_INPUT_PATH, directory)\n",
        "    print(paste0('Downloading and uncompressing: ', directory))\n",
        "    if (endsWith(filename, '.zip')){\n",
        "      temp = tempfile(fileext = '.zip')\n",
        "      download.file(download_url, temp)\n",
        "      unzip(temp, overwrite = TRUE, exdir = destination_path)\n",
        "      unlink(temp)\n",
        "    }\n",
        "    else{\n",
        "      temp = tempfile(fileext = '.tar')\n",
        "      download.file(download_url, temp)\n",
        "      untar(temp, exdir = destination_path)\n",
        "      unlink(temp)\n",
        "    }\n",
        "    print(paste0('Downloaded and uncompressed: ', directory))\n",
        "}\n",
        "\n",
        "print(paste0('Data source import complete'))\n"
      ],
      "metadata": {
        "id": "cegnqo8HtGFN"
      },
      "cell_type": "code",
      "outputs": [],
      "execution_count": null
    },
    {
      "cell_type": "markdown",
      "source": [
        "# NURSERY SURVEY DATA - DATA ANALYSIS\n",
        "Tree nurseries are integral to afforestation and reforestation initiatives as they provide the seedlings needed for successful restoration. This analysis focuses on survey data collected from various tree nurseries to assess their capacity to produce sufficient seedlings for ecological restoration projects.\n",
        "\n",
        "The primary objective of this analysis is to understand the production capacity of nurseries across different counties. By examining variables such as the types of seedlings produced, nursery capacity, and other key indicators, we aim to identify regional strengths and gaps in the nurseries’ ability to meet restoration demands. Through the use of pivot tables, charts, and summary statistics, this analysis provides insights into the resources and capabilities available at each nursery and highlights areas for potential support or development."
      ],
      "metadata": {
        "id": "OdZjs2ONtGFr"
      }
    },
    {
      "cell_type": "markdown",
      "source": [
        "## Installing packages for Analysis"
      ],
      "metadata": {
        "id": "PL_x6dX8tGF5"
      }
    },
    {
      "cell_type": "code",
      "source": [
        "install.packages(\"tidyverse\")\n",
        "library(tidyverse)\n",
        "library(lubridate)\n",
        "library(dplyr)\n",
        "library(ggplot2)\n",
        "library(tidyr)\n",
        "library(readr)"
      ],
      "metadata": {
        "trusted": true,
        "execution": {
          "iopub.status.busy": "2024-11-17T00:45:53.774823Z",
          "iopub.execute_input": "2024-11-17T00:45:53.77683Z",
          "iopub.status.idle": "2024-11-17T00:46:03.631345Z",
          "shell.execute_reply": "2024-11-17T00:46:03.629413Z"
        },
        "id": "L5BrG0bKtGF8"
      },
      "outputs": [],
      "execution_count": null
    },
    {
      "cell_type": "markdown",
      "source": [
        "## Importing the Data-set"
      ],
      "metadata": {
        "id": "0IFGjXlztGF-"
      }
    },
    {
      "cell_type": "code",
      "source": [
        "nursery_survey_data <- read_csv(\"/kaggle/input/nursery-survey-data/nursery_survey_data.csv\")"
      ],
      "metadata": {
        "trusted": true,
        "execution": {
          "iopub.status.busy": "2024-11-17T00:46:03.634237Z",
          "iopub.execute_input": "2024-11-17T00:46:03.635765Z",
          "iopub.status.idle": "2024-11-17T00:46:03.832357Z",
          "shell.execute_reply": "2024-11-17T00:46:03.830445Z"
        },
        "id": "qKTwsel7tGF_"
      },
      "outputs": [],
      "execution_count": null
    },
    {
      "cell_type": "markdown",
      "source": [
        "## Exploring the Data-set"
      ],
      "metadata": {
        "id": "hFcPmiEMtGGC"
      }
    },
    {
      "cell_type": "code",
      "source": [
        "# checking the outlook of the data, the first 10 rows\n",
        "head(nursery_survey_data, 10)"
      ],
      "metadata": {
        "trusted": true,
        "execution": {
          "iopub.status.busy": "2024-11-17T00:46:03.835169Z",
          "iopub.execute_input": "2024-11-17T00:46:03.83674Z",
          "iopub.status.idle": "2024-11-17T00:46:03.955314Z",
          "shell.execute_reply": "2024-11-17T00:46:03.95302Z"
        },
        "id": "VVSjCfNStGGE"
      },
      "outputs": [],
      "execution_count": null
    },
    {
      "cell_type": "code",
      "source": [
        "# checking the attributes of the data\n",
        "colnames(nursery_survey_data)"
      ],
      "metadata": {
        "trusted": true,
        "execution": {
          "iopub.status.busy": "2024-11-17T00:46:03.958349Z",
          "iopub.execute_input": "2024-11-17T00:46:03.959951Z",
          "iopub.status.idle": "2024-11-17T00:46:03.98218Z",
          "shell.execute_reply": "2024-11-17T00:46:03.979565Z"
        },
        "id": "MomVSQcftGGG"
      },
      "outputs": [],
      "execution_count": null
    },
    {
      "cell_type": "code",
      "source": [
        "#checking for missing values and NA's\n",
        "summary(nursery_survey_data)"
      ],
      "metadata": {
        "trusted": true,
        "execution": {
          "iopub.status.busy": "2024-11-17T00:46:03.985997Z",
          "iopub.execute_input": "2024-11-17T00:46:03.987862Z",
          "iopub.status.idle": "2024-11-17T00:46:04.024749Z",
          "shell.execute_reply": "2024-11-17T00:46:04.022677Z"
        },
        "id": "RkmYVkgxtGGH"
      },
      "outputs": [],
      "execution_count": null
    },
    {
      "cell_type": "markdown",
      "source": [
        "# Pivot Table for Organization, Respondent Status, and County"
      ],
      "metadata": {
        "id": "PPjPhT4LtGGJ"
      }
    },
    {
      "cell_type": "markdown",
      "source": [
        "We will create a pivot table that summarizes the counts of respondent status (owner/employee) categorized by county (ADM1) and organization."
      ],
      "metadata": {
        "id": "ITY33yjOtGGL"
      }
    },
    {
      "cell_type": "code",
      "source": [
        "pivot_table_status <- nursery_survey_data %>%\n",
        "  group_by(organization,ADM1,respondent_status) %>%\n",
        "  summarise(\n",
        "    count = n_distinct(respondent_name, na.rm = TRUE),  # Count unique respondents\n",
        "    .groups = \"drop\"\n",
        "  ) %>%\n",
        "  pivot_wider(\n",
        "    names_from = respondent_status,\n",
        "    values_from = count,\n",
        "    values_fill = list(count = 0)  # Fill missing values with 0\n",
        "  )\n",
        "\n",
        "# View the pivot table\n",
        "View(pivot_table_status)"
      ],
      "metadata": {
        "trusted": true,
        "execution": {
          "iopub.status.busy": "2024-11-17T01:16:52.200142Z",
          "iopub.execute_input": "2024-11-17T01:16:52.202562Z",
          "iopub.status.idle": "2024-11-17T01:16:52.293703Z",
          "shell.execute_reply": "2024-11-17T01:16:52.29163Z"
        },
        "id": "v-I7f-qptGGM"
      },
      "outputs": [],
      "execution_count": null
    },
    {
      "cell_type": "markdown",
      "source": [
        "### Creating a Unique Identifier for Nurseries"
      ],
      "metadata": {
        "id": "mkRti3zPtGGN"
      }
    },
    {
      "cell_type": "code",
      "source": [
        "nursery_survey_data <- nursery_survey_data %>%\n",
        "  mutate(nursery_id = dense_rank(respondent_name))\n"
      ],
      "metadata": {
        "trusted": true,
        "execution": {
          "iopub.status.busy": "2024-11-17T00:46:04.111837Z",
          "iopub.execute_input": "2024-11-17T00:46:04.113524Z",
          "iopub.status.idle": "2024-11-17T00:46:04.130913Z",
          "shell.execute_reply": "2024-11-17T00:46:04.128931Z"
        },
        "id": "LacNCpYktGGO"
      },
      "outputs": [],
      "execution_count": null
    },
    {
      "cell_type": "markdown",
      "source": [
        "# RESPONDENTS ANALYSIS\n",
        "## Total number of respondents"
      ],
      "metadata": {
        "id": "k9-yolwitGGP"
      }
    },
    {
      "cell_type": "code",
      "source": [
        "pivot_total_respondents <- nursery_survey_data %>%\n",
        "  group_by(ADM1) %>%  # Group by county (ADM1)\n",
        "  summarise(\n",
        "    total_respondents = n_distinct(respondent_name, na.rm = TRUE),  # Count unique respondents\n",
        "    .groups = \"drop\"\n",
        "  )\n",
        "\n",
        "# Add a 'Total' row that sums the 'total_respondents' column\n",
        "pivot_total_respondents <- pivot_total_respondents %>%\n",
        "  add_row(ADM1 = \"Total\", total_respondents = sum(pivot_total_respondents$total_respondents))\n",
        "\n",
        "# View the resulting pivot table with the 'Total' row\n",
        "print(pivot_total_respondents)"
      ],
      "metadata": {
        "trusted": true,
        "execution": {
          "iopub.status.busy": "2024-11-17T00:46:04.148741Z",
          "iopub.execute_input": "2024-11-17T00:46:04.150928Z",
          "iopub.status.idle": "2024-11-17T00:46:04.19448Z",
          "shell.execute_reply": "2024-11-17T00:46:04.192542Z"
        },
        "id": "glht0CSDtGGQ"
      },
      "outputs": [],
      "execution_count": null
    },
    {
      "cell_type": "markdown",
      "source": [
        "## Getting the Mean for the Gender in The Number of Respondents"
      ],
      "metadata": {
        "id": "shCHWbDotGGT"
      }
    },
    {
      "cell_type": "code",
      "source": [
        "gender_stats_per_county <- nursery_survey_data %>%\n",
        "  group_by(ADM1) %>%\n",
        "  summarise(\n",
        "    count_male = n_distinct(respondent_name[gender == \"male\"], na.rm = TRUE),   # Unique count of males\n",
        "    count_female = n_distinct(respondent_name[gender == \"female\"], na.rm = TRUE), # Unique count of females\n",
        "    total_count = count_male + count_female,                                  # Total unique count\n",
        "    mean_male = round((count_male / total_count) * 100, 2),                   # Mean percentage of males\n",
        "    mean_female = round((count_female / total_count) * 100, 2),               # Mean percentage of females\n",
        "    .groups = 'drop'\n",
        "  )\n",
        "\n",
        "# View the result\n",
        "print(gender_stats_per_county)"
      ],
      "metadata": {
        "trusted": true,
        "execution": {
          "iopub.status.busy": "2024-11-17T00:46:04.197432Z",
          "iopub.execute_input": "2024-11-17T00:46:04.199072Z",
          "iopub.status.idle": "2024-11-17T00:46:04.260173Z",
          "shell.execute_reply": "2024-11-17T00:46:04.258352Z"
        },
        "id": "Hm1ptiLetGGU"
      },
      "outputs": [],
      "execution_count": null
    },
    {
      "cell_type": "markdown",
      "source": [
        "## Nursery Experience in Years for each respondent"
      ],
      "metadata": {
        "id": "pwvIswa8tGGV"
      }
    },
    {
      "cell_type": "code",
      "source": [
        "# Function to calculate the mode of a vector\n",
        "get_mode <- function(x) {\n",
        "  uniqx <- unique(x)\n",
        "  uniqx[which.max(tabulate(match(x, uniqx)))]\n",
        "}\n",
        "\n",
        "# Create the pivot table and get the mode of years of experience per respondent\n",
        "pivot_table_experience <- nursery_survey_data %>%\n",
        "  select(respondent_name, ADM1, respondent_status, nursery_experience_years) %>%\n",
        "  group_by(respondent_name, ADM1,respondent_status) %>%\n",
        "  summarise(\n",
        "    total_nursery_experience_years = get_mode(nursery_experience_years),  # Get the mode of experience years\n",
        "    .groups = 'drop'\n",
        "  )\n",
        "\n",
        "# View the result\n",
        "View(pivot_table_experience)"
      ],
      "metadata": {
        "trusted": true,
        "execution": {
          "iopub.status.busy": "2024-11-17T01:14:10.062143Z",
          "iopub.execute_input": "2024-11-17T01:14:10.06429Z",
          "iopub.status.idle": "2024-11-17T01:14:10.159482Z",
          "shell.execute_reply": "2024-11-17T01:14:10.15725Z"
        },
        "id": "hrRXjkIRtGGV"
      },
      "outputs": [],
      "execution_count": null
    },
    {
      "cell_type": "markdown",
      "source": [
        "# NURSERY ANALYSIS\n",
        "## Summarizing the Nursery Capacity by County named as ADM1\n",
        "To understand the capacity by county we group and summarize the data by County. This will give us insights into total and average seedling capacity in each county.To analyze the total and average seedling production capacity by county, we use group_by() and summarize() functions. Assume number_of_seedlings represents the capacity of each nursery."
      ],
      "metadata": {
        "id": "Pnaily0dtGGW"
      }
    },
    {
      "cell_type": "code",
      "source": [
        "# Convert `number_of_seedlings` to numeric, handling any non-numeric values as NA\n",
        "nursery_survey_data$number_of_seedlings <- as.numeric(nursery_survey_data$number_of_seedlings)\n",
        "\n",
        "county_summary <- nursery_survey_data %>%\n",
        "  group_by(ADM1) %>%\n",
        "  summarize(\n",
        "    total_seedlings = sum(number_of_seedlings, na.rm = TRUE),\n",
        "    average_seedlings = mean(number_of_seedlings, na.rm = TRUE),\n",
        "    unique_nurseries_count_per_county = n_distinct(nursery_id)  # Count unique nurseries\n",
        "  )\n",
        "\n",
        "# View summary\n",
        "print(county_summary)"
      ],
      "metadata": {
        "trusted": true,
        "execution": {
          "iopub.status.busy": "2024-11-17T00:46:04.335538Z",
          "iopub.execute_input": "2024-11-17T00:46:04.337173Z",
          "iopub.status.idle": "2024-11-17T00:46:04.405816Z",
          "shell.execute_reply": "2024-11-17T00:46:04.403411Z"
        },
        "id": "hv5NTnfPtGGX"
      },
      "outputs": [],
      "execution_count": null
    },
    {
      "cell_type": "markdown",
      "source": [
        "## Analyzing the nursery types and nursery purpose in each county\n",
        "## Nursery Type Per County"
      ],
      "metadata": {
        "id": "0qoZPCSvtGGZ"
      }
    },
    {
      "cell_type": "code",
      "source": [
        "pivot_table_nursery <- nursery_survey_data %>%\n",
        "  group_by(ADM1, nursery_type) %>%\n",
        "  summarize(count = n_distinct(nursery_id), .groups = \"drop\")  # Count unique nurseries\n",
        "\n",
        "custom_colors <- c(\n",
        "  \"#4E79A7\", \"#59A14F\", \"#F28E2B\", \"#E15759\", \"#76B7B2\",\n",
        "  \"#FF9DA7\", \"#9C755F\", \"#B07AA1\", \"#F1C1D1\", \"#92C5DA\",\n",
        "  \"#B7C8F5\"\n",
        ")\n",
        "\n",
        "ggplot(pivot_table_nursery, aes(x = ADM1, y = count, fill = ADM1)) +\n",
        "  geom_bar(stat = \"identity\", position = \"dodge\") +\n",
        "  facet_wrap(~nursery_type) +  # Create separate plots for each nursery type\n",
        "  scale_fill_manual(values = custom_colors) +  # Manually specify colors\n",
        "  labs(\n",
        "    title = \"Nursery Type by County\",\n",
        "    x = \"County\",\n",
        "    y = \"Unique Nursery Count\",  # Updated y-axis label\n",
        "    fill = \"County\"\n",
        "  ) +\n",
        "  theme_minimal() +\n",
        "  theme(\n",
        "    axis.text.x = element_text(angle = 45, hjust = 1),\n",
        "    legend.position = \"none\"  # Remove the legend\n",
        "  ) +\n",
        "  # Add count labels on top of bars\n",
        "  geom_text(aes(label = count),\n",
        "            vjust = -0.3,  # Adjust vertical position of the labels\n",
        "            position = position_dodge(width = 0.9),  # Align text with bars\n",
        "            size = 3)  # Adjust text size"
      ],
      "metadata": {
        "trusted": true,
        "execution": {
          "iopub.status.busy": "2024-11-17T00:46:04.410116Z",
          "iopub.execute_input": "2024-11-17T00:46:04.411748Z",
          "iopub.status.idle": "2024-11-17T00:46:05.0387Z",
          "shell.execute_reply": "2024-11-17T00:46:05.035708Z"
        },
        "id": "GKO-rC2htGGZ"
      },
      "outputs": [],
      "execution_count": null
    },
    {
      "cell_type": "markdown",
      "source": [
        "## Count of Unique Nurseris per County"
      ],
      "metadata": {
        "id": "BcWpJxfftGGa"
      }
    },
    {
      "cell_type": "code",
      "source": [
        "# Summarize data by counting unique nurseries (nursery_id) per county\n",
        "pivot_table_nursery <- nursery_survey_data %>%\n",
        "  group_by(ADM1) %>%\n",
        "  summarize(count = n_distinct(nursery_id), .groups = \"drop\")  # Count unique nursery_id\n",
        "\n",
        "# Custom colors for the plot\n",
        "custom_colors <- c(\n",
        "  \"#4E79A7\", \"#59A14F\", \"#F28E2B\", \"#E15759\", \"#76B7B2\",\n",
        "  \"#FF9DA7\", \"#9C755F\", \"#B07AA1\", \"#F1C1D1\", \"#92C5DA\",\n",
        "  \"#B7C8F5\"\n",
        ")\n",
        "\n",
        "# Create the bar chart\n",
        "ggplot(pivot_table_nursery, aes(x = ADM1, y = count, fill = ADM1)) +\n",
        "  geom_bar(stat = \"identity\", position = \"dodge\", width = 0.8) +\n",
        "  geom_text(\n",
        "    aes(label = count),\n",
        "    vjust = -0.5,  # Position the text slightly above the bar\n",
        "    size = 3.5\n",
        "  ) +\n",
        "  scale_fill_manual(values = custom_colors) +  # Manually specify colors\n",
        "  labs(\n",
        "    title = \"Unique Nurseries by County\",\n",
        "    x = \"County\",\n",
        "    y = \"Unique Nursery Count\",\n",
        "    fill = \"County\"\n",
        "  ) +\n",
        "  theme_minimal() +\n",
        "  theme(\n",
        "    axis.text.x = element_text(angle = 45, hjust = 1),\n",
        "    legend.position = \"none\"  # Remove the legend\n",
        "  )"
      ],
      "metadata": {
        "trusted": true,
        "execution": {
          "iopub.status.busy": "2024-11-17T00:46:05.043483Z",
          "iopub.execute_input": "2024-11-17T00:46:05.045085Z",
          "iopub.status.idle": "2024-11-17T00:46:05.350052Z",
          "shell.execute_reply": "2024-11-17T00:46:05.347055Z"
        },
        "id": "e98FRS59tGGb"
      },
      "outputs": [],
      "execution_count": null
    },
    {
      "cell_type": "markdown",
      "source": [
        "Different Counties have more than one unique nurseries"
      ],
      "metadata": {
        "id": "ZPpgkVq_tGGc"
      }
    },
    {
      "cell_type": "markdown",
      "source": [
        "## Nursery Purpose\n",
        "## Pivot tables for grouping the Nurseries by Purpose for each counties"
      ],
      "metadata": {
        "id": "X4wB1lA4tGGd"
      }
    },
    {
      "cell_type": "code",
      "source": [
        "pivot_table_purpose <- nursery_survey_data %>%\n",
        "  group_by(ADM1, nursery_purpose) %>%\n",
        "  summarize(count = n(), .groups = \"drop\")  # Count the occurrences of each nursery purpose\n",
        "\n",
        "# Pivot the data to make it wider (create a column for each nursery_purpose)\n",
        "pivot_table_wide_purpose <- pivot_table_purpose %>%\n",
        "  pivot_wider(\n",
        "    names_from = nursery_purpose,  # Creates columns for each nursery_purpose\n",
        "    values_from = count,           # The count of each purpose in each county\n",
        "    values_fill = list(count = 0)  # Fill missing values with 0\n",
        "  )\n",
        "\n",
        "# View the pivot table\n",
        "print(pivot_table_wide_purpose)"
      ],
      "metadata": {
        "trusted": true,
        "execution": {
          "iopub.status.busy": "2024-11-17T00:46:05.35466Z",
          "iopub.execute_input": "2024-11-17T00:46:05.356224Z",
          "iopub.status.idle": "2024-11-17T00:46:05.445335Z",
          "shell.execute_reply": "2024-11-17T00:46:05.44296Z"
        },
        "id": "qcX546s6tGGd"
      },
      "outputs": [],
      "execution_count": null
    },
    {
      "cell_type": "code",
      "source": [
        "# Summarize data by counting unique nurseries (nursery_id) for each nursery purpose\n",
        "purpose_count <- nursery_survey_data %>%\n",
        "  group_by(nursery_purpose) %>%\n",
        "  summarize(count = n_distinct(nursery_id), .groups = \"drop\")  # Count unique nursery_id\n",
        "\n",
        "# Reorder nursery_purpose based on the count, from most to least frequent\n",
        "purpose_count <- purpose_count %>%\n",
        "  mutate(nursery_purpose = fct_reorder(nursery_purpose, count))\n",
        "\n",
        "# Create a bar graph with ggplot2\n",
        "ggplot(purpose_count, aes(x = nursery_purpose, y = count, fill = nursery_purpose)) +\n",
        "  geom_bar(stat = \"identity\") +  # Create a bar graph\n",
        "  geom_text(\n",
        "    aes(label = count),  # Add the count on top of each bar\n",
        "    vjust = -0.5,  # Position text slightly above the bar\n",
        "    color = \"black\",\n",
        "    size = 3.5\n",
        "  ) +\n",
        "  scale_fill_brewer(palette = \"Set3\") +  # Use a nice color palette\n",
        "  labs(\n",
        "    title = \"Unique Nurseries by Purpose\",\n",
        "    x = \"Nursery Purpose\",\n",
        "    y = \"Unique Nursery Count\"\n",
        "  ) +\n",
        "  theme_minimal() +\n",
        "  theme(\n",
        "    axis.text.x = element_text(angle = 45, hjust = 1, color = \"black\"),  # Maintain x-axis text\n",
        "    axis.text.y = element_text(color = \"black\"),  # Black text for y-axis\n",
        "    axis.title.y = element_text(color = \"black\"),  # Black title for y-axis\n",
        "    legend.position = \"none\"  # Remove the legend\n",
        "  )"
      ],
      "metadata": {
        "trusted": true,
        "execution": {
          "iopub.status.busy": "2024-11-17T00:46:05.449421Z",
          "iopub.execute_input": "2024-11-17T00:46:05.450888Z",
          "iopub.status.idle": "2024-11-17T00:46:05.765913Z",
          "shell.execute_reply": "2024-11-17T00:46:05.762844Z"
        },
        "id": "jeh5zka0tGGe"
      },
      "outputs": [],
      "execution_count": null
    },
    {
      "cell_type": "markdown",
      "source": [
        "From the analysis we can see that majority of the nurseries produce seeds for income forest management in-house needs while the least produce for income forest management in general not just their own in-house needs"
      ],
      "metadata": {
        "id": "3tw9e-zHtGGf"
      }
    },
    {
      "cell_type": "markdown",
      "source": [
        "# SEEDLINGS ANALYSIS(INDIGENOUS & EXOTIC)\n",
        "## Finding the types of seedlings per county"
      ],
      "metadata": {
        "id": "MAybMEGPtGGg"
      }
    },
    {
      "cell_type": "code",
      "source": [
        "# Summarize the total counts of Indigenous and Exotic seedlings by county\n",
        "pivot_table <- nursery_survey_data %>%\n",
        "  group_by(ADM1) %>%\n",
        "  summarize(\n",
        "    count_indigenous = sum(Indigenous, na.rm = TRUE),\n",
        "    count_exotic = sum(Exotic, na.rm = TRUE),\n",
        "    total_count = count_indigenous + count_exotic,  # Calculate total count\n",
        "    mean_indigenous = round((count_indigenous / total_count) * 100, 2),  # Percentage for Indigenous\n",
        "    mean_exotic = round((count_exotic / total_count) * 100, 2),          # Percentage for Exotic\n",
        "    .groups = \"drop\"  # Avoid nesting the results\n",
        "  )\n",
        "\n",
        "# View the pivot table\n",
        "print(pivot_table)"
      ],
      "metadata": {
        "trusted": true,
        "execution": {
          "iopub.status.busy": "2024-11-17T00:46:05.770579Z",
          "iopub.execute_input": "2024-11-17T00:46:05.772204Z",
          "iopub.status.idle": "2024-11-17T00:46:05.831385Z",
          "shell.execute_reply": "2024-11-17T00:46:05.828941Z"
        },
        "id": "g82Alp_jtGGg"
      },
      "outputs": [],
      "execution_count": null
    },
    {
      "cell_type": "markdown",
      "source": [
        "## Distribution of Indigeous and Exotic Across the Counties"
      ],
      "metadata": {
        "id": "c9kkzmLqtGGh"
      }
    },
    {
      "cell_type": "code",
      "source": [
        "pivot_table <- pivot_table %>%\n",
        "  mutate(total_count = count_indigenous + count_exotic) %>%  # Calculate total seedlings per county\n",
        "  arrange(desc(total_count)) %>%  # Arrange in descending order\n",
        "  mutate(ADM1 = factor(ADM1, levels = unique(ADM1)))  # Reorder ADM1 based on total_count\n",
        "\n",
        "# Plot with reordered ADM1\n",
        "ggplot(pivot_table, aes(x = ADM1)) +\n",
        "  geom_bar(aes(y = count_indigenous, fill = \"Indigenous\"), stat = \"identity\", position = \"dodge\") +\n",
        "  geom_bar(aes(y = count_exotic, fill = \"Exotic\"), stat = \"identity\", position = \"dodge\") +\n",
        "  labs(\n",
        "    title = \"Seedling Counts Across Counties\",\n",
        "    x = \"County (ADM1)\",\n",
        "    y = \"Count of Seedlings\",\n",
        "    fill = \"Seedling Type\"\n",
        "  ) +\n",
        "  scale_fill_manual(values = c(\"Indigenous\" = \"lightblue\", \"Exotic\" = \"blue\")) +\n",
        "  theme_minimal() +\n",
        "  theme(axis.text.x = element_text(angle = 45, hjust = 1, color = \"black\"),\n",
        "         axis.text.y = element_text(color = \"black\"),  # Black text for y-axis\n",
        "    axis.title.x = element_text(color = \"black\"),  # Black title for x-axis\n",
        "    axis.title.y = element_text(color = \"black\")   # Black title for y-axis)\n",
        "  )"
      ],
      "metadata": {
        "trusted": true,
        "execution": {
          "iopub.status.busy": "2024-11-17T00:46:05.835753Z",
          "iopub.execute_input": "2024-11-17T00:46:05.837353Z",
          "iopub.status.idle": "2024-11-17T00:46:06.201642Z",
          "shell.execute_reply": "2024-11-17T00:46:06.198745Z"
        },
        "id": "yD05kz8QtGGj"
      },
      "outputs": [],
      "execution_count": null
    },
    {
      "cell_type": "markdown",
      "source": [
        "# NURSERY INFRASTUCTURE AND MATERIALS\n",
        "## Nursery Infrasture Appropriateness Per County"
      ],
      "metadata": {
        "id": "_dF4c-LCtGGm"
      }
    },
    {
      "cell_type": "code",
      "source": [
        "# Data preparation: Count nursery_infrastructure_appropriateness responses per county\n",
        "infrastructure_data <- nursery_survey_data %>%\n",
        "  filter(!is.na(Nursery_Infrastructure_Appropriateness)) %>%  # Remove NA values\n",
        "  group_by(ADM1, Nursery_Infrastructure_Appropriateness) %>%\n",
        "  summarize(count = n(), .groups = \"drop\")  # Count responses for each county and appropriateness status\n",
        "\n",
        "# Define custom shades of blue for each infrastructure appropriateness level\n",
        "blue_shades <- c(\"poor\" = \"#F1C1D1\", \"fair\" = \"#E15759\", \"good\" = \"#4169e1\", \"very_good\" = \"#00008B\")\n",
        "\n",
        "# Create the stacked bar chart\n",
        "ggplot(infrastructure_data, aes(x = ADM1, y = count, fill = Nursery_Infrastructure_Appropriateness)) +\n",
        "  geom_bar(stat = \"identity\") +  # Default stacking for bars\n",
        "  labs(\n",
        "    title = \"Nursery Infrastructure Appropriateness per County\",\n",
        "    x = \"County\",\n",
        "    y = \"Count\",\n",
        "    fill = \"Infrastructure Appropriateness\"\n",
        "  ) +\n",
        "  theme_minimal() +\n",
        "  theme(axis.text.x = element_text(angle = 45, hjust = 1, color = \"black\")) +  # Rotate x-axis labels for readability\n",
        "  scale_fill_manual(values = blue_shades)  # Apply custom shades of blue"
      ],
      "metadata": {
        "trusted": true,
        "execution": {
          "iopub.status.busy": "2024-11-17T00:46:06.206295Z",
          "iopub.execute_input": "2024-11-17T00:46:06.279337Z",
          "iopub.status.idle": "2024-11-17T00:46:06.64287Z",
          "shell.execute_reply": "2024-11-17T00:46:06.639518Z"
        },
        "id": "cxL9pAoBtGGo"
      },
      "outputs": [],
      "execution_count": null
    },
    {
      "cell_type": "markdown",
      "source": [
        "From the graph we discover that Kiambu County has the most very_good infrastructure appropriateness followed by Nakuru. Nakuru has a ratio of poor infrastructure whereas Kajiado and West-Pokot have complete fair and poor infrastructure. Laikipia, Meru and Narok have good infrastructures. The rest that is Baringo, Elgeyo Marakwet, Makueni and Nyandarua have a share of both good and fair infrastructures. Kiambu has a mix of both very good and fair while Nakuru seems to have signifacant ratios of all 4 categories"
      ],
      "metadata": {
        "id": "oMJmlAkStGGp"
      }
    },
    {
      "cell_type": "markdown",
      "source": [
        "# Materials Satisfaction Per County"
      ],
      "metadata": {
        "id": "UdHMqFvitGG3"
      }
    },
    {
      "cell_type": "code",
      "source": [
        "# Data preparation: Calculate percentage of responses per satisfaction level within each county\n",
        "satisfaction_data <- nursery_survey_data %>%\n",
        "  filter(!is.na(Nursery_Materials_Satisfaction)) %>%  # Remove NA values\n",
        "  group_by(ADM1, Nursery_Materials_Satisfaction) %>%\n",
        "  summarize(count = n(), .groups = \"drop\") %>%  # Count responses for each county and satisfaction level\n",
        "  group_by(ADM1) %>%\n",
        "  mutate(percentage = count / sum(count) * 100)  # Calculate percentage per county\n",
        "\n",
        "# Define custom shades of green for each satisfaction level\n",
        "green_shades <- c(\"not_satisfied\" = \"#808080\",\n",
        "                  \"somehow_satisfied\" = \"#a1d99b\",\n",
        "                  \"satisfied\" = \"#32CD32\",\n",
        "                  \"very_satisfied\" = \"#006d2c\")\n",
        "\n",
        "# Create the stacked bar chart\n",
        "ggplot(satisfaction_data, aes(x = ADM1, y = percentage, fill = Nursery_Materials_Satisfaction)) +\n",
        "  geom_bar(stat = \"identity\") +  # Default stacking for bars\n",
        "  geom_text(\n",
        "    aes(label = paste0(round(percentage, 1), \"%\")),  # Format percentages with 1 decimal point\n",
        "    position = position_stack(vjust = 0.5),  # Center labels within each bar segment\n",
        "    size = 3, color = \"black\"  # black text for better visibility\n",
        "  ) +\n",
        "  labs(\n",
        "    title = \"Nursery Materials Satisfaction per County\",\n",
        "    x = \"County\",\n",
        "    y = \"Percentage\",\n",
        "    fill = \"Satisfaction Level\"\n",
        "  ) +\n",
        "  theme_minimal() +\n",
        "  theme(axis.text.x = element_text(angle = 45, hjust = 1, color = \"black\")) +  # Rotate x-axis labels for readability\n",
        "  scale_fill_manual(values = green_shades)  # Apply custom shades of green"
      ],
      "metadata": {
        "trusted": true,
        "execution": {
          "iopub.status.busy": "2024-11-17T00:46:06.647641Z",
          "iopub.execute_input": "2024-11-17T00:46:06.649278Z",
          "iopub.status.idle": "2024-11-17T00:46:07.080033Z",
          "shell.execute_reply": "2024-11-17T00:46:07.076956Z"
        },
        "id": "4zsW43-ytGG5"
      },
      "outputs": [],
      "execution_count": null
    },
    {
      "cell_type": "markdown",
      "source": [
        "From the bars, we can identify that Kiambu has a ratio of all satisfactions but the majority are unsatisfied with the nursery materials present. For the rest of the counties there is some level of satisfied apart from Kajiado, Narok and Nyandarua that incline more to somehow satisfied and not satisfied"
      ],
      "metadata": {
        "id": "FQv6zRBjtGG6"
      }
    },
    {
      "cell_type": "markdown",
      "source": [
        "# Finding the registration status and registering Organizations for each County\n",
        "## Registration Status"
      ],
      "metadata": {
        "id": "L1HU4kA4tGG6"
      }
    },
    {
      "cell_type": "code",
      "source": [
        "# Summarize and calculate proportions for registration status counts per county\n",
        "pivot_table_reg_status <- nursery_survey_data %>%\n",
        "  group_by(ADM1, nursery_registration_status) %>%\n",
        "  summarise(count = n(), .groups = \"drop\") %>%\n",
        "  complete(ADM1, nursery_registration_status, fill = list(count = 0)) %>%  # Fill missing with 0\n",
        "  group_by(ADM1) %>%\n",
        "  mutate(\n",
        "    proportion = count / sum(count),  # Calculate proportions\n",
        "    percentage = proportion * 100     # Calculate percentage for labeling\n",
        "  )\n",
        "\n",
        "# Create the 100% stacked bar chart with percentage labels, filtering out near-0% values\n",
        "ggplot(pivot_table_reg_status, aes(x = ADM1, y = proportion, fill = nursery_registration_status)) +\n",
        "  geom_bar(stat = \"identity\", position = \"fill\") +  # 100% stacked bar chart\n",
        "  geom_text(\n",
        "    aes(label = ifelse(percentage >= 1, paste0(round(percentage, 1), \"%\"), \"\")),  # Show labels for values >= 1%\n",
        "    position = position_fill(vjust = 0.5), size = 3\n",
        "  ) +\n",
        "  labs(\n",
        "    title = \"Registration Status Distribution per County (100% Stacked with Percentages)\",\n",
        "    x = \"County\",\n",
        "    y = \"Proportion\",\n",
        "    fill = \"Registration Status\"\n",
        "  ) +\n",
        "  theme_minimal() +\n",
        "  scale_fill_manual(values = c(\"skyblue\", \"lightgreen\", \"coral\", \"purple\", \"orange\")) +  # Define colors\n",
        "  theme(\n",
        "    axis.text.x = element_text(angle = 45, hjust = 1, color=\"black\"),  # Rotate county labels for readability\n",
        "    plot.title = element_text(hjust = 0.5),\n",
        "    axis.text.y = element_text(color = \"black\"),  # Black text for y-axis\n",
        "    axis.title.x = element_text(color = \"black\"),  # Black title for x-axis\n",
        "    axis.title.y = element_text(color = \"black\")   # Black title for y-axis\n",
        "  ) +\n",
        "  scale_y_continuous(labels = scales::percent)  # Show y-axis in percentage"
      ],
      "metadata": {
        "trusted": true,
        "execution": {
          "iopub.status.busy": "2024-11-17T00:46:07.085042Z",
          "iopub.execute_input": "2024-11-17T00:46:07.086667Z",
          "iopub.status.idle": "2024-11-17T00:46:07.500153Z",
          "shell.execute_reply": "2024-11-17T00:46:07.497145Z"
        },
        "id": "Zb3bgQSftGG7"
      },
      "outputs": [],
      "execution_count": null
    },
    {
      "cell_type": "markdown",
      "source": [
        "## Registering Organization"
      ],
      "metadata": {
        "id": "T9RN_6rBtGG8"
      }
    },
    {
      "cell_type": "code",
      "source": [
        "# Replace NA values with the string \"NA\" and summarize the data\n",
        "pivot_table_registering_org <- nursery_survey_data %>%\n",
        "  mutate(registering_org = ifelse(is.na(registering_org), \"NA\", registering_org)) %>%  # Replace NA with \"NA\"\n",
        "  group_by(ADM1, registering_org) %>%\n",
        "  summarise(count = n(), .groups = \"drop\")\n",
        "\n",
        "# Ensure no empty slices (filter any counties with zero counts)\n",
        "pivot_table_registering_org <- pivot_table_registering_org %>%\n",
        "  filter(count > 0)\n",
        "\n",
        "# Create a pie chart\n",
        "ggplot(pivot_table_registering_org, aes(x = \"\", y = count, fill = registering_org)) +\n",
        "  geom_bar(stat = \"identity\", width = 1) +  # Create the bar for the pie\n",
        "  coord_polar(theta = \"y\") +  # Convert the bar chart to a pie chart\n",
        "  facet_wrap(~ ADM1, scales = \"free\") +  # Facet by county (ADM1) with free scales\n",
        "  labs(\n",
        "    title = \"Distribution of Registering Organizations by County\",\n",
        "    fill = \"Registering Organization\"\n",
        "  ) +\n",
        "  theme_void() +  # Clean up the chart for a more aesthetic look\n",
        "  theme(axis.text.x = element_blank())  # Remove x-axis text"
      ],
      "metadata": {
        "trusted": true,
        "execution": {
          "iopub.status.busy": "2024-11-17T00:46:07.504961Z",
          "iopub.execute_input": "2024-11-17T00:46:07.506675Z",
          "iopub.status.idle": "2024-11-17T00:46:08.784814Z",
          "shell.execute_reply": "2024-11-17T00:46:08.781889Z"
        },
        "id": "uMbPiPHStGG8"
      },
      "outputs": [],
      "execution_count": null
    },
    {
      "cell_type": "markdown",
      "source": [
        "Nakuru stands out with a significantly higher number of registered organizations compared to the others, indicating a stronger presence of registered nurseries or a more active registration process in this region"
      ],
      "metadata": {
        "id": "I_Uq0r7ytGG9"
      }
    },
    {
      "cell_type": "markdown",
      "source": [
        "# Analysing the Nursery Production Category per county\n",
        "## Production Category Per County"
      ],
      "metadata": {
        "id": "ESmjJ-KBtGG-"
      }
    },
    {
      "cell_type": "code",
      "source": [
        "# Create the pivot table: Count per nursery production category\n",
        "pivot_table_nursery_production <- nursery_survey_data %>%\n",
        "  group_by(ADM1, nursery_production_category) %>%\n",
        "  count() %>%  # Count the occurrences of each category per county\n",
        "  spread(key = nursery_production_category, value = n, fill = 0)  # Reshape to wide format\n",
        "\n",
        "# View the pivot table\n",
        "print(pivot_table_nursery_production)"
      ],
      "metadata": {
        "trusted": true,
        "execution": {
          "iopub.status.busy": "2024-11-17T00:46:08.78989Z",
          "iopub.execute_input": "2024-11-17T00:46:08.791901Z",
          "iopub.status.idle": "2024-11-17T00:46:08.869137Z",
          "shell.execute_reply": "2024-11-17T00:46:08.867158Z"
        },
        "id": "Y2ME_CV_tGG-"
      },
      "outputs": [],
      "execution_count": null
    },
    {
      "cell_type": "markdown",
      "source": [
        "## Number of Seedlings available Per County"
      ],
      "metadata": {
        "id": "bMVL7BJKtGG_"
      }
    },
    {
      "cell_type": "code",
      "source": [
        "# Create a pivot table for the total number of seedlings per county and arrange in descending order\n",
        "seedlings_count_per_county <- nursery_survey_data %>%\n",
        "  group_by(ADM1) %>%  # Group by county\n",
        "  summarize(total_seedlings = sum(number_of_seedlings, na.rm = TRUE), .groups = \"drop\") %>%  # Sum of seedlings per county\n",
        "  arrange(desc(total_seedlings))  # Arrange in descending order\n",
        "\n",
        "# View the pivot table\n",
        "print(seedlings_count_per_county)"
      ],
      "metadata": {
        "trusted": true,
        "execution": {
          "iopub.status.busy": "2024-11-17T00:46:08.872251Z",
          "iopub.execute_input": "2024-11-17T00:46:08.873824Z",
          "iopub.status.idle": "2024-11-17T00:46:08.917087Z",
          "shell.execute_reply": "2024-11-17T00:46:08.91457Z"
        },
        "id": "AA5D4XCQtGHA"
      },
      "outputs": [],
      "execution_count": null
    },
    {
      "cell_type": "markdown",
      "source": [
        "## Method Of Propagation"
      ],
      "metadata": {
        "id": "BHQsOCkWtGHA"
      }
    },
    {
      "cell_type": "code",
      "source": [
        "pivot_method_of_propagation <- nursery_survey_data %>%\n",
        "  group_by(ADM1, method_of_propagation) %>%\n",
        "  summarise(\n",
        "    count = n(),  # Count the occurrences of each method per county\n",
        "    .groups = \"drop\"\n",
        "  ) %>%\n",
        "  pivot_wider(\n",
        "    names_from = method_of_propagation,  # Spread methods as columns\n",
        "    values_from = count,                # Values for each method\n",
        "    values_fill = list(count = 0)       # Replace missing values with 0\n",
        "  ) %>%\n",
        "  mutate(\n",
        "    total = `wildings` + `wildings and seeds` + `seeds` + `vegetative`  # Add a total column\n",
        "  )\n",
        "\n",
        "# View the resulting pivot table\n",
        "print(pivot_method_of_propagation)"
      ],
      "metadata": {
        "trusted": true,
        "execution": {
          "iopub.status.busy": "2024-11-17T00:46:08.920087Z",
          "iopub.execute_input": "2024-11-17T00:46:08.921693Z",
          "iopub.status.idle": "2024-11-17T00:46:09.011464Z",
          "shell.execute_reply": "2024-11-17T00:46:09.009375Z"
        },
        "id": "SPxIRuGitGHB"
      },
      "outputs": [],
      "execution_count": null
    },
    {
      "cell_type": "markdown",
      "source": [
        "# Analysis of the Distance to Paved Road and Water\n",
        "## Distance of the Nurseris to the Paved Road"
      ],
      "metadata": {
        "id": "HF5sKE1qtGHC"
      }
    },
    {
      "cell_type": "code",
      "source": [
        "max_distance_per_county <- nursery_survey_data %>%\n",
        "  group_by(ADM1) %>%\n",
        "  summarise(max_distance = max(distance_to_paved_road, na.rm = TRUE), .groups = 'drop')\n",
        "\n",
        "# Create the bar chart with the maximum distance and labels on top of each bar\n",
        "ggplot(max_distance_per_county, aes(x = reorder(ADM1, max_distance),\n",
        "                                    y = max_distance, fill = ADM1)) +\n",
        "  geom_bar(stat = \"identity\", position = \"dodge\") +  # Bar chart with max distance per county\n",
        "  labs(\n",
        "    title = \"Maximum Distance to Paved Road by County\",\n",
        "    x = \"County\",\n",
        "    y = \"Maximum Distance to Paved Road (in km)\",\n",
        "    fill = \"County\"\n",
        "  ) +\n",
        "  theme_minimal() +\n",
        "  theme(axis.text.x = element_text(angle = 45, hjust = 1, color=\"black\")) +  # Rotate x-axis labels for readability\n",
        "  scale_fill_brewer(palette = \"Set3\") +  # Use a readable color palette for fill\n",
        "  scale_y_continuous(labels = function(x) paste0(x, \" km\")) +  # Add \"km\" suffix to y-axis labels\n",
        "  geom_text(aes(label = paste0(max_distance, \" km\")),  # Display the max distance on top of each bar\n",
        "            vjust = -0.5,  # Adjust vertical position (above the bar)\n",
        "            size = 3,  # Adjust text size\n",
        "            color = \"black\")  # Text color"
      ],
      "metadata": {
        "trusted": true,
        "execution": {
          "iopub.status.busy": "2024-11-17T00:46:09.014615Z",
          "iopub.execute_input": "2024-11-17T00:46:09.016238Z",
          "iopub.status.idle": "2024-11-17T00:46:09.46596Z",
          "shell.execute_reply": "2024-11-17T00:46:09.463937Z"
        },
        "id": "h3bRd3z_tGHE"
      },
      "outputs": [],
      "execution_count": null
    },
    {
      "cell_type": "markdown",
      "source": [
        "## Distance To Water"
      ],
      "metadata": {
        "id": "Rx0ZRcXwtGHF"
      }
    },
    {
      "cell_type": "code",
      "source": [
        "max_distance_to_water_per_county <- nursery_survey_data %>%\n",
        "  group_by(ADM1) %>%\n",
        "  summarise(max_distance_to_water = max(distance_to_water, na.rm = TRUE), .groups = 'drop')\n",
        "\n",
        "# Create the bar chart with the maximum distance to water and labels on top of each bar\n",
        "ggplot(max_distance_to_water_per_county, aes(x = reorder(ADM1, max_distance_to_water),\n",
        "                                              y = max_distance_to_water, fill = ADM1)) +\n",
        "  geom_bar(stat = \"identity\", position = \"dodge\") +  # Bar chart with max distance to water per county\n",
        "  labs(\n",
        "    title = \"Maximum Distance to Water by County\",\n",
        "    x = \"County\",\n",
        "    y = \"Maximum Distance to Water (in km)\",\n",
        "    fill = \"County\"\n",
        "  ) +\n",
        "  theme_minimal() +\n",
        "  theme(axis.text.x = element_text(angle = 45, hjust = 1, color =\"black\")) +  # Rotate x-axis labels for readability\n",
        "  scale_fill_brewer(palette = \"Set3\") +  # Use a readable color palette for fill\n",
        "  scale_y_continuous(labels = function(x) paste0(x, \" km\")) +  # Add \"km\" suffix to y-axis labels\n",
        "  geom_text(aes(label = paste0(max_distance_to_water, \" km\")),  # Display the max distance to water on top of each bar\n",
        "            vjust = -0.5,  # Adjust vertical position (above the bar)\n",
        "            size = 3,  # Adjust text size\n",
        "            color = \"black\")  # Text color"
      ],
      "metadata": {
        "trusted": true,
        "execution": {
          "iopub.status.busy": "2024-11-17T01:09:09.648549Z",
          "iopub.execute_input": "2024-11-17T01:09:09.650439Z",
          "iopub.status.idle": "2024-11-17T01:09:10.128756Z",
          "shell.execute_reply": "2024-11-17T01:09:10.126777Z"
        },
        "id": "YaHKei1ftGHF"
      },
      "outputs": [],
      "execution_count": null
    },
    {
      "cell_type": "markdown",
      "source": [
        "# ANALYSIS FOR EMPLOYEES\n",
        "## Identifying the total number of employeers Per County"
      ],
      "metadata": {
        "id": "B_DYsZ7ItGHH"
      }
    },
    {
      "cell_type": "code",
      "source": [
        "pivot_table <- nursery_survey_data %>%\n",
        "  group_by(ADM1) %>%\n",
        "  summarise(\n",
        "    total_nursery_employees = sum(nursery_total_employees, na.rm = TRUE),\n",
        "    total_male_employees = sum(males_total, na.rm = TRUE),\n",
        "    total_female_employees = sum(females_total, na.rm = TRUE),\n",
        "    mean_male_percentage = round((total_male_employees / total_nursery_employees) * 100, 2),  # Mean of male percentage\n",
        "    mean_female_percentage = round((total_female_employees / total_nursery_employees) * 100, 2),  # Mean of female percentage\n",
        "    .groups = 'drop'\n",
        "  )\n",
        "\n",
        "# View the result\n",
        "print(pivot_table)"
      ],
      "metadata": {
        "trusted": true,
        "execution": {
          "iopub.status.busy": "2024-11-17T00:46:09.947185Z",
          "iopub.execute_input": "2024-11-17T00:46:09.94886Z",
          "iopub.status.idle": "2024-11-17T00:46:10.009839Z",
          "shell.execute_reply": "2024-11-17T00:46:10.007879Z"
        },
        "id": "ZMBVqh83tGHI"
      },
      "outputs": [],
      "execution_count": null
    },
    {
      "cell_type": "markdown",
      "source": [
        "# Checking for Counties that Practise Nursery Technques for the different species"
      ],
      "metadata": {
        "id": "R91vkAtNtGHJ"
      }
    },
    {
      "cell_type": "code",
      "source": [
        "# Create a pivot table for Nursery_Techniques per county (ADM1)\n",
        "pivot_table_nursery_techniques <- nursery_survey_data %>%\n",
        "  filter(!is.na(Nursery_Techniques)) %>%  # Remove NAs from Nursery_Techniques column\n",
        "  group_by(ADM1, Nursery_Techniques) %>%  # Group by County and Nursery Techniques (YES/NO)\n",
        "  summarize(Count = n(), .groups = \"drop\") %>%  # Count occurrences\n",
        "  pivot_wider(names_from = Nursery_Techniques, values_from = Count, values_fill = list(Count = 0))  # Pivot the table\n",
        "\n",
        "# View the pivot table\n",
        "print(pivot_table_nursery_techniques)"
      ],
      "metadata": {
        "trusted": true,
        "execution": {
          "iopub.status.busy": "2024-11-17T00:46:10.012829Z",
          "iopub.execute_input": "2024-11-17T00:46:10.014471Z",
          "iopub.status.idle": "2024-11-17T00:46:10.072405Z",
          "shell.execute_reply": "2024-11-17T00:46:10.070431Z"
        },
        "id": "ClkHPUavtGHJ"
      },
      "outputs": [],
      "execution_count": null
    },
    {
      "cell_type": "markdown",
      "source": [
        "It is evident that Kjiado County do not practice nursery techniques for the different species and also do not take part in the seed collection. All the rest take part in Nursery techniques apart from some but for some from 16 from Nakuru and 5 from Nyandarua.\n",
        "\n",
        "Those who are not sales argue that they do not take part in Seed Sales because they cannot meet demands or are yet to make sales, they don't sale since their goal is restoration and conservation, They have partnered with KFS to plant in their forests and they support them in marketing the seedlings,they have the reliable project market from the ITF or their in-house market demand is very promising"
      ],
      "metadata": {
        "id": "GAzoIpPztGHK"
      }
    },
    {
      "cell_type": "markdown",
      "source": [
        "# SPECIES ANALYSIS\n",
        "# ANALYSING SELLERS\n",
        "## Checking whether the sellers attended training offered"
      ],
      "metadata": {
        "id": "uN_HRcW7tGHL"
      }
    },
    {
      "cell_type": "code",
      "source": [
        "# Create the pivot table for training_attended per county with \"No\" changed to \"no\"\n",
        "pivot_table_training_attended <- nursery_survey_data %>%\n",
        "  mutate(training_attended = tolower(training_attended)) %>%  # Convert \"No\" to \"no\"\n",
        "  group_by(ADM1, training_attended) %>%\n",
        "  summarize(count = n(), .groups = \"drop\") %>%\n",
        "  pivot_wider(names_from = training_attended, values_from = count, values_fill = list(count = 0))\n",
        "\n",
        "# View the pivot table\n",
        "View(pivot_table_training_attended)"
      ],
      "metadata": {
        "trusted": true,
        "execution": {
          "iopub.status.busy": "2024-11-17T01:07:43.642845Z",
          "iopub.execute_input": "2024-11-17T01:07:43.64459Z",
          "iopub.status.idle": "2024-11-17T01:07:43.702101Z",
          "shell.execute_reply": "2024-11-17T01:07:43.699861Z"
        },
        "id": "nPR0MJSYtGHL"
      },
      "outputs": [],
      "execution_count": null
    },
    {
      "cell_type": "markdown",
      "source": [
        "## Analysis from the sellers whether the training was helpful for them in relation to the theme"
      ],
      "metadata": {
        "id": "mJCTSCcwtGHN"
      }
    },
    {
      "cell_type": "code",
      "source": [
        "training_theme_table <- nursery_survey_data %>%\n",
        "  group_by(training_theme, ADM1, training_helpful) %>%  # Group by training theme, county (ADM1), and helpfulness\n",
        "  summarize(count = n(), .groups = \"drop\")  # Count the occurrences without pivoting\n",
        "\n",
        "# View the result\n",
        "View(training_theme_table)"
      ],
      "metadata": {
        "trusted": true,
        "execution": {
          "iopub.status.busy": "2024-11-17T01:07:26.645248Z",
          "iopub.execute_input": "2024-11-17T01:07:26.647013Z",
          "iopub.status.idle": "2024-11-17T01:07:26.709326Z",
          "shell.execute_reply": "2024-11-17T01:07:26.706672Z"
        },
        "id": "KdlhmP72tGHN"
      },
      "outputs": [],
      "execution_count": null
    },
    {
      "cell_type": "markdown",
      "source": [
        "\n",
        "From the table we can see that 35 themes were involved the training sessions, 21 received no training there were NA's from the data showing the training sessions were not availed as expected in all counties. Only 2 organizations provided the Training, that is, ICRAF and Green Belt Movement"
      ],
      "metadata": {
        "id": "mZ3hQq5etGHO"
      }
    },
    {
      "cell_type": "markdown",
      "source": [
        "# MARKET ANALYSIS\n",
        "## Established Markets Per County"
      ],
      "metadata": {
        "id": "Nw8S2QrFtGHP"
      }
    },
    {
      "cell_type": "code",
      "source": [
        "# Summarize data for Established markets per county\n",
        "established_markets_summary <- nursery_survey_data %>%\n",
        "  group_by(ADM1, Established_Market) %>%\n",
        "  summarize(count = n(), .groups = \"drop\")\n",
        "\n",
        "# Create a stacked bar chart and add counts on top of the bars\n",
        "ggplot(established_markets_summary, aes(x = ADM1, y = count, fill = Established_Market)) +\n",
        "  geom_bar(stat = \"identity\", position = \"stack\") +  # Stacked bar chart\n",
        "  geom_text(aes(label = count), position = position_stack(vjust = 0.5), size = 3.5) +  # Add count labels inside the bars\n",
        "  labs(\n",
        "    title = \"Established Markets Per County\",\n",
        "    x = \"County\",\n",
        "    y = \"Count of Established Markets\",\n",
        "    fill = \"Established Markets\"\n",
        "  ) +\n",
        "  theme_minimal() +\n",
        "  theme(axis.text.x = element_text(angle = 45, hjust = 1, colour=\"black\"))"
      ],
      "metadata": {
        "trusted": true,
        "execution": {
          "iopub.status.busy": "2024-11-17T01:07:03.933475Z",
          "iopub.execute_input": "2024-11-17T01:07:03.947672Z",
          "iopub.status.idle": "2024-11-17T01:07:04.348424Z",
          "shell.execute_reply": "2024-11-17T01:07:04.34546Z"
        },
        "id": "GsmVDI63tGHQ"
      },
      "outputs": [],
      "execution_count": null
    },
    {
      "cell_type": "markdown",
      "source": [
        "## Identifying the main customers from Each of the Counties"
      ],
      "metadata": {
        "id": "G_ceebWztGHR"
      }
    },
    {
      "cell_type": "code",
      "source": [
        "# Step 1: Clean up and standardize the 'Main_Customers' column\n",
        "nursery_survey_data <- nursery_survey_data %>%\n",
        "  mutate(Main_Customers = case_when(\n",
        "    Main_Customers == \"private_individuals in_house_needs\" ~ \"in_house_needs private_individuals\",\n",
        "    Main_Customers == \"in_house_needs NGOs companies\" ~ \"in_house_needs NGOs and companies\",\n",
        "    Main_Customers == \"NGOs government_planting_projects companies\" ~ \"NGOs and government_planting_projects companies\",\n",
        "    Main_Customers == \"in_house_needs and companies\" ~ \"in_house_needs and companies\",\n",
        "    Main_Customers == \"in_house_needs government_planting_projects\" ~ \"in_house_needs and government_planting_projects\",\n",
        "    Main_Customers == \"private_individuals companies others\" ~ \"private_individuals and companies others\",\n",
        "    TRUE ~ Main_Customers  # Keep all other values unchanged\n",
        "  ))\n",
        "\n",
        "# Step 2: Filter the relevant categories and summarize the counts and percentages by county\n",
        "main_customers_summary <- nursery_survey_data %>%\n",
        "  filter(Main_Customers %in% c(\"government_planting_projects\",\n",
        "                               \"private_individuals\",\n",
        "                               \"in_house_needs\",\n",
        "                               \"NGOs\",\n",
        "                               \"in_house_needs private_individuals\",\n",
        "                               \"in_house_needs NGOs and companies\",\n",
        "                               \"NGOs and government_planting_projects companies\",\n",
        "                               \"in_house_needs and companies\",\n",
        "                               \"in_house_needs and government_planting_projects\",\n",
        "                               \"private_individuals and companies others\")) %>%\n",
        "  group_by(ADM1, Main_Customers) %>%\n",
        "  summarize(count = n(), .groups = \"drop\") %>%\n",
        "  group_by(ADM1) %>%\n",
        "  mutate(percentage = round(count / sum(count) * 100, 2))  # Calculate percentage per county and round to 2 decimals\n",
        "\n",
        "# Step 3: Pivot the data so that counties are columns and Main_Customers are rows\n",
        "pivot_table <- main_customers_summary %>%\n",
        "  select(ADM1, Main_Customers, percentage) %>%\n",
        "  spread(key = ADM1, value = percentage, fill = 0)  # Pivoting, filling missing values with 0\n",
        "\n",
        "# Display the pivot table with rounded percentages\n",
        "pivot_table"
      ],
      "metadata": {
        "trusted": true,
        "execution": {
          "iopub.status.busy": "2024-11-17T01:06:30.133055Z",
          "iopub.execute_input": "2024-11-17T01:06:30.134906Z",
          "iopub.status.idle": "2024-11-17T01:06:30.223205Z",
          "shell.execute_reply": "2024-11-17T01:06:30.220652Z"
        },
        "id": "EYtDtfSqtGHR"
      },
      "outputs": [],
      "execution_count": null
    },
    {
      "cell_type": "markdown",
      "source": [
        "## Species Preferred Per County"
      ],
      "metadata": {
        "id": "TgE8UxmttGHS"
      }
    },
    {
      "cell_type": "code",
      "source": [
        "# Calculate the count and percentage of preferred species per county\n",
        "species_preferred_summary <- nursery_survey_data %>%\n",
        "  group_by(ADM1, Species_Preferred) %>%\n",
        "  summarize(count = n(), .groups = \"drop\") %>%\n",
        "  group_by(ADM1) %>%\n",
        "  mutate(percentage = round(count / sum(count) * 100, 2))  # Calculate percentage within each county\n",
        "\n",
        "# Pivot the data so that counties are columns and species preferred are rows\n",
        "pivot_table <- species_preferred_summary %>%\n",
        "  select(ADM1, Species_Preferred, percentage) %>%\n",
        "  spread(key = ADM1, value = percentage, fill = 0)  # Pivoting, filling missing values with 0\n",
        "\n",
        "# Display the pivot table\n",
        "View(pivot_table)"
      ],
      "metadata": {
        "trusted": true,
        "execution": {
          "iopub.status.busy": "2024-11-17T00:59:52.167248Z",
          "iopub.execute_input": "2024-11-17T00:59:52.170496Z",
          "iopub.status.idle": "2024-11-17T00:59:52.25549Z",
          "shell.execute_reply": "2024-11-17T00:59:52.253155Z"
        },
        "id": "MHAnFjFttGHT"
      },
      "outputs": [],
      "execution_count": null
    },
    {
      "cell_type": "markdown",
      "source": [
        "## Marketing Medium"
      ],
      "metadata": {
        "id": "M3avrP26tGHV"
      }
    },
    {
      "cell_type": "code",
      "source": [
        "marketing_medium_summary <- nursery_survey_data %>%\n",
        "  group_by(ADM1, Marketing_Medium) %>%\n",
        "  summarize(count = n(), .groups = \"drop\") %>%\n",
        "  group_by(ADM1) %>%\n",
        "  mutate(percentage = round(count / sum(count) * 100, 2))  # Calculate and round percentage to 2 decimal places\n",
        "\n",
        "# Pivot the data to display counties as columns and marketing mediums as rows\n",
        "pivot_table <- marketing_medium_summary %>%\n",
        "  spread(key = ADM1, value = percentage, fill = 0)  # Pivot counties as columns, showing percentages\n",
        "\n",
        "# Print the pivot table\n",
        "View(pivot_table)"
      ],
      "metadata": {
        "trusted": true,
        "execution": {
          "iopub.status.busy": "2024-11-17T00:46:10.743554Z",
          "iopub.execute_input": "2024-11-17T00:46:10.745172Z",
          "iopub.status.idle": "2024-11-17T00:46:10.828432Z",
          "shell.execute_reply": "2024-11-17T00:46:10.826538Z"
        },
        "id": "1aPN8NBKtGHW"
      },
      "outputs": [],
      "execution_count": null
    },
    {
      "cell_type": "markdown",
      "source": [
        "## Analysis of The Type of Constraints in the Market Place"
      ],
      "metadata": {
        "id": "P-Dk1q6ktGHX"
      }
    },
    {
      "cell_type": "code",
      "source": [
        "# Summarize the count of Constraints_To_Reaching_Customers per county\n",
        "constraints_summary <- nursery_survey_data %>%\n",
        "  group_by(ADM1, Constraints_To_Reaching_Customers) %>%\n",
        "  summarize(count = n(), .groups = \"drop\")\n",
        "\n",
        "# Calculate the percentage for each constraint per county\n",
        "constraints_summary <- constraints_summary %>%\n",
        "  group_by(ADM1) %>%\n",
        "  mutate(percentage = count / sum(count) * 100)\n",
        "\n",
        "# Plot pie charts for each county\n",
        "ggplot(constraints_summary, aes(x = \"\", y = percentage, fill = Constraints_To_Reaching_Customers)) +\n",
        "  geom_bar(stat = \"identity\", width = 1) +  # Create the bar chart\n",
        "  coord_polar(theta = \"y\") +  # Convert to pie chart\n",
        "  facet_wrap(~ ADM1) +  # Create a separate pie chart for each county\n",
        "  labs(\n",
        "    title = \"Distribution of Constraints to Reaching Customers per County\",\n",
        "    fill = \"Constraints\"\n",
        "  ) +\n",
        "  theme_minimal() +\n",
        "  theme(axis.text.x = element_blank(),  # Hide x-axis text\n",
        "        axis.ticks = element_blank(),  # Remove axis ticks\n",
        "        panel.grid = element_blank())  # Remove grid lines"
      ],
      "metadata": {
        "trusted": true,
        "execution": {
          "iopub.status.busy": "2024-11-17T00:46:10.83136Z",
          "iopub.execute_input": "2024-11-17T00:46:10.832946Z",
          "iopub.status.idle": "2024-11-17T00:46:11.956345Z",
          "shell.execute_reply": "2024-11-17T00:46:11.953892Z"
        },
        "id": "l-53HxQ3tGHY"
      },
      "outputs": [],
      "execution_count": null
    },
    {
      "cell_type": "markdown",
      "source": [
        "## Market Information Source"
      ],
      "metadata": {
        "id": "l3B_GtuutGHZ"
      }
    },
    {
      "cell_type": "code",
      "source": [
        "mgt_info_summary <- nursery_survey_data %>%\n",
        "  group_by(ADM1, nursery_mgt_information_source) %>%\n",
        "  summarize(count = n(), .groups = \"drop\")\n",
        "\n",
        "# Pivot the data to a wide format to display actual counts per county\n",
        "pivot_table <- mgt_info_summary %>%\n",
        "  spread(key = nursery_mgt_information_source, value = count, fill = 0)  # Pivoting the data\n",
        "\n",
        "# Display the pivot table without kable\n",
        "View(pivot_table)"
      ],
      "metadata": {
        "trusted": true,
        "execution": {
          "iopub.status.busy": "2024-11-17T00:46:11.959632Z",
          "iopub.execute_input": "2024-11-17T00:46:11.961483Z",
          "iopub.status.idle": "2024-11-17T00:46:12.035518Z",
          "shell.execute_reply": "2024-11-17T00:46:12.033248Z"
        },
        "id": "90hAfOzPtGHa"
      },
      "outputs": [],
      "execution_count": null
    },
    {
      "cell_type": "markdown",
      "source": [
        "# NURSERY MANAGEMENT ANALYSIS\n",
        "## Checking if the Nurseries in the particular counties plan on scaling up"
      ],
      "metadata": {
        "id": "Wze15iGStGHb"
      }
    },
    {
      "cell_type": "code",
      "source": [
        "# Summarize the count of nursery_mgt_information_source per county\n",
        "mgt_info_summary <- nursery_survey_data %>%\n",
        "  group_by(ADM1, nursery_mgt_information_source) %>%\n",
        "  summarize(count = n(), .groups = \"drop\")\n",
        "\n",
        "# Calculate the total count per county\n",
        "county_total <- mgt_info_summary %>%\n",
        "  group_by(ADM1) %>%\n",
        "  summarize(total_count = sum(count), .groups = \"drop\")\n",
        "\n",
        "# Join the total count back to the original summary table to calculate percentages\n",
        "mgt_info_summary_with_percentage <- mgt_info_summary %>%\n",
        "  left_join(county_total, by = \"ADM1\") %>%\n",
        "  mutate(percentage = round((count / total_count) * 100, 2))\n",
        "\n",
        "# Select and display the final table\n",
        "final_table <- mgt_info_summary_with_percentage %>%\n",
        "  select(ADM1, nursery_mgt_information_source, count, total_count, percentage) %>%\n",
        "  rename(\n",
        "    county = ADM1,\n",
        "    total = total_count\n",
        "  )\n",
        "\n",
        "# Print the final table\n",
        "View(final_table)"
      ],
      "metadata": {
        "trusted": true,
        "execution": {
          "iopub.status.busy": "2024-11-17T00:46:38.021464Z",
          "iopub.execute_input": "2024-11-17T00:46:38.023475Z",
          "iopub.status.idle": "2024-11-17T00:46:38.113926Z",
          "shell.execute_reply": "2024-11-17T00:46:38.111487Z"
        },
        "id": "rdNmTG9-tGHc"
      },
      "outputs": [],
      "execution_count": null
    },
    {
      "cell_type": "markdown",
      "source": [
        "## Competitors per County"
      ],
      "metadata": {
        "id": "qZ3x-mb-tGHc"
      }
    },
    {
      "cell_type": "code",
      "source": [
        "# Summarize competitors_list by county\n",
        "competitors_summary <- nursery_survey_data %>%\n",
        "  group_by(ADM1, competitors_list) %>%\n",
        "  summarize(count = n(), .groups = \"drop\") %>%\n",
        "  spread(key = competitors_list, value = count, fill = 0)  # Pivot table format\n",
        "\n",
        "# View the pivot table\n",
        "View(competitors_summary)"
      ],
      "metadata": {
        "trusted": true,
        "execution": {
          "iopub.status.busy": "2024-11-17T00:46:12.163706Z",
          "iopub.execute_input": "2024-11-17T00:46:12.165248Z",
          "iopub.status.idle": "2024-11-17T00:46:12.228984Z",
          "shell.execute_reply": "2024-11-17T00:46:12.227015Z"
        },
        "id": "wK1GTLzZtGHd"
      },
      "outputs": [],
      "execution_count": null
    },
    {
      "cell_type": "markdown",
      "source": [
        "# Training Areas Required"
      ],
      "metadata": {
        "id": "kYVz0kPCtGHe"
      }
    },
    {
      "cell_type": "code",
      "source": [
        "# Summarize the data by county and training areas required\n",
        "training_summary <- nursery_survey_data %>%\n",
        "  group_by(ADM1, training_areas_required) %>%\n",
        "  summarize(count = n(), .groups = \"drop\")\n",
        "\n",
        "# Pivot the table to make counties the columns and training areas as rows\n",
        "pivot_table <- training_summary %>%\n",
        "  spread(key = ADM1, value = count, fill = 0)  # Pivot counties as columns\n",
        "\n",
        "# Display the pivot table\n",
        "View(pivot_table)"
      ],
      "metadata": {
        "trusted": true,
        "execution": {
          "iopub.status.busy": "2024-11-17T00:46:12.231786Z",
          "iopub.execute_input": "2024-11-17T00:46:12.233416Z",
          "iopub.status.idle": "2024-11-17T00:46:12.302846Z",
          "shell.execute_reply": "2024-11-17T00:46:12.300834Z"
        },
        "id": "_FygZgATtGHe"
      },
      "outputs": [],
      "execution_count": null
    },
    {
      "cell_type": "code",
      "source": [],
      "metadata": {
        "trusted": true,
        "id": "mIAhRvjZtGHf"
      },
      "outputs": [],
      "execution_count": null
    },
    {
      "cell_type": "markdown",
      "source": [],
      "metadata": {
        "id": "UCz8iXRItGHg"
      }
    }
  ]
}